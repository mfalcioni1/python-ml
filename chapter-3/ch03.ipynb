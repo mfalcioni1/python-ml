{
 "cells": [
  {
   "cell_type": "markdown",
   "metadata": {},
   "source": [
    "# First steps with scikit-learn - training a perceptron"
   ]
  },
  {
   "cell_type": "code",
   "execution_count": 1,
   "metadata": {},
   "outputs": [],
   "source": [
    "from sklearn import datasets\n",
    "from sklearn.model_selection import train_test_split\n",
    "from sklearn.preprocessing import StandardScaler\n",
    "from sklearn.linear_model import Perceptron\n",
    "from sklearn.metrics import accuracy_score\n",
    "import numpy as np"
   ]
  },
  {
   "cell_type": "code",
   "execution_count": 2,
   "metadata": {},
   "outputs": [
    {
     "name": "stdout",
     "output_type": "stream",
     "text": [
      "Class labels: [0 1 2]\n",
      "Classes: ['setosa' 'versicolor' 'virginica']\n"
     ]
    }
   ],
   "source": [
    "iris = datasets.load_iris()\r\n",
    "X = iris.data[:, [2,3]]\r\n",
    "y = iris.target\r\n",
    "print('Class labels:', np.unique(y))\r\n",
    "print('Classes:', np.unique(iris.target_names))"
   ]
  },
  {
   "cell_type": "code",
   "execution_count": 3,
   "metadata": {},
   "outputs": [],
   "source": [
    "# stratify=y splits the y classes proportionally in the train/test splits\n",
    "X_train, X_test, y_train, y_test = train_test_split(X, y, test_size=0.3, random_state=1, stratify=y)"
   ]
  },
  {
   "cell_type": "code",
   "execution_count": 4,
   "metadata": {},
   "outputs": [
    {
     "name": "stdout",
     "output_type": "stream",
     "text": [
      "Labels counts in y: [50 50 50]\n",
      "Labels counts in train: [35 35 35]\n",
      "Labels counts in test: [15 15 15]\n"
     ]
    }
   ],
   "source": [
    "print('Labels counts in y:', np.bincount(y))\n",
    "print('Labels counts in train:', np.bincount(y_train))\n",
    "print('Labels counts in test:', np.bincount(y_test))"
   ]
  },
  {
   "cell_type": "code",
   "execution_count": 5,
   "metadata": {},
   "outputs": [],
   "source": [
    "# recall from our gradient descent example that scaling our features\n",
    "# results in better training and performance\n",
    "sc = StandardScaler()\n",
    "sc.fit(X_train)\n",
    "X_train_std = sc.transform(X_train)\n",
    "X_test_std = sc.transform(X_test)"
   ]
  },
  {
   "cell_type": "code",
   "execution_count": 6,
   "metadata": {},
   "outputs": [
    {
     "data": {
      "text/plain": [
       "Perceptron(eta0=0.1, random_state=1)"
      ]
     },
     "execution_count": 6,
     "metadata": {},
     "output_type": "execute_result"
    }
   ],
   "source": [
    "# train the model\n",
    "ppn = Perceptron(eta0=0.1, random_state=1)\n",
    "ppn.fit(X_train_std, y_train)"
   ]
  },
  {
   "cell_type": "code",
   "execution_count": 7,
   "metadata": {},
   "outputs": [
    {
     "name": "stdout",
     "output_type": "stream",
     "text": [
      "Misclassified examples: 1\n"
     ]
    }
   ],
   "source": [
    "y_pred = ppn.predict(X_test_std)\n",
    "print('Misclassified examples: %d' % (y_test != y_pred).sum())"
   ]
  },
  {
   "cell_type": "code",
   "execution_count": 8,
   "metadata": {},
   "outputs": [
    {
     "name": "stdout",
     "output_type": "stream",
     "text": [
      "Accuracy: 0.978\n",
      "Accuracy: 0.978\n"
     ]
    }
   ],
   "source": [
    "print('Accuracy: %.3f' % accuracy_score(y_test, y_pred))\n",
    "# alternatively using score\n",
    "print('Accuracy: %.3f' % ppn.score(X_test_std, y_test))"
   ]
  },
  {
   "cell_type": "markdown",
   "metadata": {},
   "source": [
    "See pages 58-59 for the multi-class implementation of the decision boundry graphic generating function."
   ]
  },
  {
   "cell_type": "markdown",
   "metadata": {},
   "source": [
    "# Modeling class probabilties via logisitic regression"
   ]
  },
  {
   "cell_type": "code",
   "execution_count": 9,
   "metadata": {},
   "outputs": [],
   "source": [
    "class LogisticRegressionGD(object):\r\n",
    "    \"\"\"Logistic Regression fit through Gradient Descent\r\n",
    "       Parameters\r\n",
    "    ----------\r\n",
    "    eta : float\r\n",
    "        learning rate between (0.0 and 1.0)\r\n",
    "\r\n",
    "    n_iter : numeric\r\n",
    "        number of iterations to run and update weights\r\n",
    "    \r\n",
    "    random_state : numeric\r\n",
    "        random initialization of weights\r\n",
    "\r\n",
    "    Attributes\r\n",
    "    ----------\r\n",
    "    w_ : 1d-array\r\n",
    "        final weights after fit; w_[0] represents the bias term\r\n",
    "    cost_ : list\r\n",
    "        sums-of-squares cost function value in each epoch\r\n",
    "\r\n",
    "    \"\"\"\r\n",
    "    def __init__(self, eta=0.01, n_iter=50, random_state=1):\r\n",
    "        self.eta = eta\r\n",
    "        self.n_iter = n_iter\r\n",
    "        self.random_state = random_state\r\n",
    "    \r\n",
    "    def fit(self, X, y):\r\n",
    "        \"\"\"fitting the training data\r\n",
    "        Parameters\r\n",
    "        ----------\r\n",
    "        X : matrix\r\n",
    "            feature set of independent variables\r\n",
    "        y : 1d-array\r\n",
    "            target variables\r\n",
    "        \r\n",
    "        Returns\r\n",
    "        ----------\r\n",
    "        self : object\r\n",
    "\r\n",
    "        \"\"\"\r\n",
    "        rgen = np.random.RandomState(self.random_state)\r\n",
    "        # small random numbers from normal(0,0.01) to initialize\r\n",
    "        self.w_ = rgen.normal(loc=0.0, scale=0.01,\r\n",
    "                              size=1 + X.shape[1])\r\n",
    "\r\n",
    "        self.cost_ = []\r\n",
    "\r\n",
    "        for i in range(self.n_iter):\r\n",
    "            \"\"\"\r\n",
    "            Update pseudo code:\r\n",
    "            Calculate the function output\r\n",
    "            Calculate the error\r\n",
    "            Obtain the weights by multiplying error by learning rate\r\n",
    "            Calculate the cost function (similar to log-likelihood)\r\n",
    "            \r\n",
    "            \"\"\"\r\n",
    "            net_input = self.net_input(X)\r\n",
    "            output = self.activation_sigmoid(net_input)\r\n",
    "            errors = (y - output)\r\n",
    "            self.w_[1:] += self.eta * X.T.dot(errors)\r\n",
    "            self.w_[0] += self.eta * errors.sum()\r\n",
    "            cost = (-y.dot(np.log(output)) - \r\n",
    "                (1 - y).dot(np.log(1 - output)))\r\n",
    "            self.cost_.append(cost)\r\n",
    "        return self\r\n",
    "\r\n",
    "    def activation_sigmoid(self, z):\r\n",
    "        \"\"\"Sigmoid activation function\"\"\"\r\n",
    "        return 1. /(1. + np.exp(-np.clip(z, -250, 250)))\r\n",
    "\r\n",
    "    def net_input(self, X):\r\n",
    "        \"\"\" compute step function input from weights and input \"\"\"\r\n",
    "        return np.dot(X, self.w_[1:]) + self.w_[0]\r\n",
    "\r\n",
    "    def predict(self, X):\r\n",
    "        \"\"\" returns class label after unit step \"\"\"\r\n",
    "        return np.where(self.activation_sigmoid(self.net_input(X)) >= 0.5, 1, 0)"
   ]
  },
  {
   "cell_type": "code",
   "execution_count": 12,
   "metadata": {},
   "outputs": [
    {
     "name": "stderr",
     "output_type": "stream",
     "text": [
      "<ipython-input-12-6f88fe0d41c3>:33: UserWarning: You passed a edgecolor/edgecolors ('black') for an unfilled marker ('x').  Matplotlib is ignoring the edgecolor in favor of the facecolor.  This behavior may change in the future.\n",
      "  plt.scatter(x=X[y == cl, 0],\n"
     ]
    },
    {
     "data": {
      "image/png": "[encoded data removed]",
      "text/plain": [
       "<Figure size 432x288 with 1 Axes>"
      ]
     },
     "metadata": {
      "needs_background": "light"
     },
     "output_type": "display_data"
    }
   ],
   "source": [
    "# Applying our logistic regression\r\n",
    "X_train_01_subset = X_train[(y_train == 0) | (y_train == 1)]\r\n",
    "y_train_01_subset = y_train[(y_train == 0) | (y_train == 1)]\r\n",
    "\r\n",
    "lrgd = LogisticRegressionGD(eta=0.05,\r\n",
    "                            n_iter=1000,\r\n",
    "                            random_state=1)\r\n",
    "lrgd.fit(X_train_01_subset,\r\n",
    "        y_train_01_subset)\r\n",
    "\r\n",
    "from matplotlib.colors import ListedColormap\r\n",
    "import matplotlib.pyplot as plt \r\n",
    "def plot_decision_regions(X, y, classifier, resolution=0.02):\r\n",
    "    \r\n",
    "    # setup marker generator and color map\r\n",
    "    markers = ('s', 'x', 'o', '^', 'v')\r\n",
    "    colors = ('red', 'blue', 'lightgreen', 'gray', 'cyan')\r\n",
    "    cmap = ListedColormap(colors[:len(np.unique(y))])\r\n",
    "\r\n",
    "    # plot the decision surface\r\n",
    "    x1_min, x1_max = X[:, 0].min() - 1, X[:, 0].max() + 1\r\n",
    "    x2_min, x2_max = X[:, 1].min() - 1, X[:, 1].max() + 1\r\n",
    "    xx1, xx2 = np.meshgrid(np.arange(x1_min, x1_max, resolution),\r\n",
    "                           np.arange(x2_min, x2_max, resolution))\r\n",
    "    Z = classifier.predict(np.array([xx1.ravel(), xx2.ravel()]).T)\r\n",
    "    Z = Z.reshape(xx1.shape)\r\n",
    "    plt.contourf(xx1, xx2, Z, alpha=0.3, cmap=cmap)\r\n",
    "    plt.xlim(xx1.min(), xx1.max())\r\n",
    "    plt.ylim(xx2.min(), xx2.max())\r\n",
    "\r\n",
    "    # plot class examples\r\n",
    "    for idx, cl in enumerate(np.unique(y)):\r\n",
    "        plt.scatter(x=X[y == cl, 0], \r\n",
    "                    y=X[y == cl, 1],\r\n",
    "                    alpha=0.8, \r\n",
    "                    c=colors[idx],\r\n",
    "                    marker=markers[idx], \r\n",
    "                    label=cl, \r\n",
    "                    edgecolor='black')\r\n",
    "\r\n",
    "plot_decision_regions(X=X_train_01_subset,\r\n",
    "                      y=y_train_01_subset,\r\n",
    "                      classifier=lrgd)\r\n",
    "plt.tight_layout()\r\n",
    "plt.show()"
   ]
  }
 ],
 "metadata": {
  "kernelspec": {
   "display_name": "Python 3.9.5 64-bit ('PythonSoftwareFoundation.Python.3.9_qbz5n2kfra8p0')",
   "name": "python395jvsc74a57bd0e703f05326c604214f1fe4a413a226eda0714193e2561e3cc6657772eace678a"
  },
  "language_info": {
   "codemirror_mode": {
    "name": "ipython",
    "version": 3
   },
   "file_extension": ".py",
   "mimetype": "text/x-python",
   "name": "python",
   "nbconvert_exporter": "python",
   "pygments_lexer": "ipython3",
   "version": "3.9.5"
  },
  "metadata": {
   "interpreter": {
    "hash": "e703f05326c604214f1fe4a413a226eda0714193e2561e3cc6657772eace678a"
   }
  },
  "orig_nbformat": 2
 },
 "nbformat": 4,
 "nbformat_minor": 2
}